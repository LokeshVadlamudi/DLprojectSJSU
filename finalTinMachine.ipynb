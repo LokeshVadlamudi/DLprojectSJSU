{
  "nbformat": 4,
  "nbformat_minor": 0,
  "metadata": {
    "colab": {
      "name": "finalTinMachine.ipynb",
      "provenance": [],
      "collapsed_sections": [],
      "mount_file_id": "1HEt3Sabt8U_rQM7koQItED3vSr6EqzNn",
      "authorship_tag": "ABX9TyNZ439XPEQPZ1rwzzbHIfkw",
      "include_colab_link": true
    },
    "kernelspec": {
      "name": "python3",
      "display_name": "Python 3"
    }
  },
  "cells": [
    {
      "cell_type": "markdown",
      "metadata": {
        "id": "view-in-github",
        "colab_type": "text"
      },
      "source": [
        "<a href=\"https://colab.research.google.com/github/LokeshVadlamudi/DLprojectSJSU/blob/master/finalTinMachine.ipynb\" target=\"_parent\"><img src=\"https://colab.research.google.com/assets/colab-badge.svg\" alt=\"Open In Colab\"/></a>"
      ]
    },
    {
      "cell_type": "markdown",
      "metadata": {
        "id": "Pv-Ac9krcY9_",
        "colab_type": "text"
      },
      "source": [
        "#Add Your tinder xauth Token ID"
      ]
    },
    {
      "cell_type": "code",
      "metadata": {
        "id": "OsXhKgyRcYRQ",
        "colab_type": "code",
        "colab": {}
      },
      "source": [
        "t = \"54e65bf8-c7b1-40a8-809f-de2fc727147e\""
      ],
      "execution_count": 0,
      "outputs": []
    },
    {
      "cell_type": "markdown",
      "metadata": {
        "id": "1z7l2hQtkCtR",
        "colab_type": "text"
      },
      "source": [
        "#script for downloading the images from Tinder platform and store it in our drive"
      ]
    },
    {
      "cell_type": "code",
      "metadata": {
        "id": "vk71SCPv2O0X",
        "colab_type": "code",
        "colab": {}
      },
      "source": [
        "import requests\n",
        "\n",
        "from geopy.geocoders import Nominatim\n",
        "from time import sleep\n",
        "from random import random\n",
        "\n",
        "\n",
        "Locator = Nominatim(user_agent=\"TinMachine\")\n",
        "pFile = \"/content/drive/My Drive/finalDL/pFile.txt\"\n",
        "tLink = \"https://api.gotinder.com\"\n",
        "\n",
        "class tAPI():\n",
        "\n",
        "    def __init__(self, t):\n",
        "        self._t = t\n",
        "\n",
        "    def nearest_peeps(self):\n",
        "        print('inside nearest')\n",
        "        d = requests.get(tLink + \"/v2/recs/core\", headers={\"X-Auth-Token\": self._t}).json()\n",
        "        return list(map(lambda user: Peep(user[\"user\"], self), d[\"data\"][\"results\"]))\n",
        "\n",
        "\n",
        "class Peep(object):\n",
        "\n",
        "    def __init__(self, data, api):\n",
        "        self._api = api\n",
        "\n",
        "        self.id = data[\"_id\"]\n",
        "        self.name = data.get(\"name\", \"Unknown\")\n",
        "\n",
        "        self.gender = [\"Male\", \"Female\", \"Unknown\"][data.get(\"gender\", 2)]\n",
        "\n",
        "        self.images = list(map(lambda photo: photo[\"url\"], data.get(\"photos\", [])))\n",
        "\n",
        "    def get_images(self, folder=\".\", sleep_max_for=0):\n",
        "        print('inside download fn')\n",
        "\n",
        "        with open(pFile, \"r\") as f:\n",
        "            lines = f.readlines()\n",
        "            if self.id in lines:\n",
        "                return\n",
        "\n",
        "        with open(pFile, \"a\") as f:\n",
        "            f.write(self.id+\"\\r\\n\")\n",
        "\n",
        "        index = -1\n",
        "        for image_link in self.images:\n",
        "            index += 1\n",
        "            req = requests.get(image_link, stream=True)\n",
        "            if req.status_code == 200:\n",
        "                with open(f\"{folder}/{self.id}_{self.name}_{index}.jpeg\", \"wb\") as f:\n",
        "                    f.write(req.content)\n",
        "            sleep(random()*sleep_max_for)\n",
        "\n",
        "\n",
        "if __name__ == \"__main__\":\n",
        "    api = tAPI(t)\n",
        "    print(api,'inside main')\n",
        "    while True:\n",
        "        peeps = api.nearest_peeps()\n",
        "        print(peeps)\n",
        "        for peep in peeps:\n",
        "            print('inside person list')\n",
        "            peep.get_images(folder=\"/content/drive/My Drive/finalDL/downloadedImages\", sleep_max_for=random() * 3)\n",
        "            sleep(random() * 10)\n",
        "\n",
        "        sleep(random() * 10)\n",
        "\n",
        "        "
      ],
      "execution_count": 0,
      "outputs": []
    },
    {
      "cell_type": "markdown",
      "metadata": {
        "id": "ajxlzASGlBw3",
        "colab_type": "text"
      },
      "source": [
        "#now that we have our unclassified images, lets manually label them into like or dislike by renaming the files with either 1 or 0 respectively at front"
      ]
    },
    {
      "cell_type": "markdown",
      "metadata": {
        "id": "WKQSFcCcmaBq",
        "colab_type": "text"
      },
      "source": [
        "#imageClassifier script"
      ]
    },
    {
      "cell_type": "code",
      "metadata": {
        "id": "7nW0T_EzcFWI",
        "colab_type": "code",
        "colab": {}
      },
      "source": [
        "from os import listdir, rename\n",
        "from os.path import isfile, join\n",
        "import tkinter as tk\n",
        "from PIL import ImageTk, Image\n",
        "\n",
        "i_path = \"/content/drive/My Drive/finalDL/downloadedImages\"\n",
        "\n",
        "images = [f for f in listdir(i_path) if isfile(join(i_path, f))]\n",
        "unclassified_images = filter(lambda image: not (image.startswith(\"0_\") or image.startswith(\"1_\")), images)\n",
        "current = None\n",
        "\n",
        "def load_next():\n",
        "    global current, unclassified_images\n",
        "    try:\n",
        "        current = next(unclassified_images)\n",
        "    except StopIteration:\n",
        "        root.quit()\n",
        "        \n",
        "    print(current)\n",
        "\n",
        "    pil_img = Image.open(IMAGE_FOLDER+\"/\"+current)\n",
        "\n",
        "    width, height = pil_img.size\n",
        "    max_height = 1000\n",
        "\n",
        "    if height > max_height:\n",
        "        resize_factor = max_height / height\n",
        "        pil_img = pil_img.resize((int(width*resize_factor), int(height*resize_factor)), resample=Image.LANCZOS)\n",
        "    img_tk = ImageTk.PhotoImage(pil_img)\n",
        "    img_label.img = img_tk\n",
        "    img_label.config(image=img_label.img)\n",
        "\n",
        "def likeCat(arg):\n",
        "    global current\n",
        "    print(\"like\")\n",
        "    rename(IMAGE_FOLDER+\"/\"+current, IMAGE_FOLDER+\"/1_\"+current)\n",
        "    next_img()\n",
        "\n",
        "def dislikeCat(arg):\n",
        "    global current\n",
        "    print(\"dislike\")\n",
        "    rename(IMAGE_FOLDER + \"/\" + current, IMAGE_FOLDER + \"/0_\" + current)\n",
        "    next_img()\n",
        "\n",
        "\n",
        "if __name__ == \"__main__\":\n",
        "\n",
        "    root = tk.Tk()\n",
        "\n",
        "    img_label = tk.Label(root)\n",
        "    img_label.pack()\n",
        "    #left mouse button for like\n",
        "    #right mouse button for dislike \n",
        "    img_label.bind(\"<Button-1>\", likeCat)\n",
        "    img_label.bind(\"<Button-2>\", dislikeCat)\n",
        "\n",
        "    btn = tk.Button(root, text='Next image', command=load_next)\n",
        "\n",
        "    load_next() # load first image\n",
        "\n",
        "    root.mainloop()"
      ],
      "execution_count": 0,
      "outputs": []
    },
    {
      "cell_type": "markdown",
      "metadata": {
        "id": "hBK3sUKanJFN",
        "colab_type": "text"
      },
      "source": [
        "#but since we are in colab, this tkinter can't generate the ui required for manually allowing us to classify, Paste the above script in local to generate the ui"
      ]
    },
    {
      "cell_type": "markdown",
      "metadata": {
        "id": "GdTONXjKoE33",
        "colab_type": "text"
      },
      "source": [
        "#now that we have renamed using script, lets move these images to respective classified folders using moveImages Script below"
      ]
    },
    {
      "cell_type": "code",
      "metadata": {
        "id": "MhY0FjLLnVNA",
        "colab_type": "code",
        "colab": {}
      },
      "source": [
        "import os\n",
        "\n",
        "IMAGE_FOLDER = \"/content/drive/My Drive/finalDL/downloadedImages\"\n",
        "POS_FOLDER = \"/content/drive/My Drive/finalDL/classified/liked\"\n",
        "NEG_FOLDER = \"/content/drive/My Drive/finalDL/classified/disliked\"\n",
        "\n",
        "if __name__ == \"__main__\":\n",
        "\n",
        "    images = [f for f in os.listdir(IMAGE_FOLDER) if os.path.isfile(os.path.join(IMAGE_FOLDER, f))]\n",
        "    liked_images = filter(lambda image: (image.startswith(\"1_\")), images)\n",
        "    disliked_images = filter(lambda image: (image.startswith(\"0_\")), images)\n",
        "\n",
        "  \n",
        "    #iterate through liked pics\n",
        "    for liked in liked_images:\n",
        "        old_filename = IMAGE_FOLDER + \"/\" + liked\n",
        "        new_filename = POS_FOLDER + \"/\" + liked[:-5] + \".jpg\"\n",
        "\n",
        "        if not os.path.isfile(new_filename):\n",
        "            print(\"moving to liked folder: \" + liked)\n",
        "            img = old_filename\n",
        "            if not img:\n",
        "                continue\n",
        "            img.save(new_filename, \"jpeg\")\n",
        "\n",
        "    #iterate through disliked pics\n",
        "    for disliked in disliked_images:\n",
        "        old_filename = IMAGE_FOLDER + \"/\" + disliked\n",
        "        new_filename = NEG_FOLDER + \"/\" + disliked[:-5] + \".jpg\"\n",
        "        if not os.path.isfile(new_filename):\n",
        "            print(\"moving to disliked folder: \" + disliked)\n",
        "            img = old_filename\n",
        "            if not img:\n",
        "                continue\n",
        "            img.save(new_filename, \"jpeg\")"
      ],
      "execution_count": 0,
      "outputs": []
    },
    {
      "cell_type": "markdown",
      "metadata": {
        "id": "j4sXePIyxEaD",
        "colab_type": "text"
      },
      "source": [
        "#predicting a sample image"
      ]
    },
    {
      "cell_type": "code",
      "metadata": {
        "id": "3s8DpABssAXZ",
        "colab_type": "code",
        "outputId": "42d20eea-1d8d-40fa-8df8-7f8ad4b03aa3",
        "colab": {
          "base_uri": "https://localhost:8080/",
          "height": 210
        }
      },
      "source": [
        "img = imageToTensorImage('/content/drive/My Drive/finalDL/classified/dislikes/1_Screen Shot 2020-04-13 at 12.26.54 AM.png')\n",
        "\n",
        "## predict and visualize\n",
        "img.show(y=learn.predict(img)[0])"
      ],
      "execution_count": 0,
      "outputs": [
        {
          "output_type": "display_data",
          "data": {
            "image/png": "[encoded data removed]",
            "text/plain": [
              "<Figure size 216x216 with 1 Axes>"
            ]
          },
          "metadata": {
            "tags": [],
            "needs_background": "light"
          }
        }
      ]
    },
    {
      "cell_type": "code",
      "metadata": {
        "id": "nAg_R9eAwj1-",
        "colab_type": "code",
        "colab": {}
      },
      "source": [
        "y=learn.predict(img)[0]"
      ],
      "execution_count": 0,
      "outputs": []
    },
    {
      "cell_type": "code",
      "metadata": {
        "id": "WHI8DSdns0Wr",
        "colab_type": "code",
        "outputId": "0703b59e-b808-4121-deef-9c9a3dcb6f7d",
        "colab": {
          "base_uri": "https://localhost:8080/",
          "height": 33
        }
      },
      "source": [
        "print(y)"
      ],
      "execution_count": 0,
      "outputs": [
        {
          "output_type": "stream",
          "text": [
            "dislikes\n"
          ],
          "name": "stdout"
        }
      ]
    },
    {
      "cell_type": "markdown",
      "metadata": {
        "id": "HG1M8twZ2kn6",
        "colab_type": "text"
      },
      "source": [
        "#export weights"
      ]
    },
    {
      "cell_type": "code",
      "metadata": {
        "id": "vKo96V2VwvtW",
        "colab_type": "code",
        "colab": {}
      },
      "source": [
        "learn.export()"
      ],
      "execution_count": 0,
      "outputs": []
    },
    {
      "cell_type": "markdown",
      "metadata": {
        "id": "T7e0nT0Yw8Wy",
        "colab_type": "text"
      },
      "source": [
        "#load pickle that we saved above and predict an image"
      ]
    },
    {
      "cell_type": "code",
      "metadata": {
        "id": "UI_aHhY0wvj6",
        "colab_type": "code",
        "colab": {}
      },
      "source": [
        "# nn = load_learner('/content/drive/My Drive/datasets')"
      ],
      "execution_count": 0,
      "outputs": []
    },
    {
      "cell_type": "code",
      "metadata": {
        "id": "40QDaNx-wvXn",
        "colab_type": "code",
        "colab": {}
      },
      "source": [
        "# nn.predict(img)[0]"
      ],
      "execution_count": 0,
      "outputs": []
    },
    {
      "cell_type": "markdown",
      "metadata": {
        "id": "DxlYiWbo1lrd",
        "colab_type": "text"
      },
      "source": [
        "#main script for running the application in django"
      ]
    },
    {
      "cell_type": "markdown",
      "metadata": {
        "id": "G7kVmJFD2wFW",
        "colab_type": "text"
      },
      "source": [
        "#this script will be shown in the video as it requires all the django files"
      ]
    },
    {
      "cell_type": "code",
      "metadata": {
        "id": "M1D2aovh1kbB",
        "colab_type": "code",
        "colab": {}
      },
      "source": [
        "from django.shortcuts import render\n",
        "import requests\n",
        "import datetime\n",
        "from geopy.geocoders import Nominatim\n",
        "import cv2\n",
        "from fastai import *\n",
        "from fastai.tabular import *\n",
        "from torchvision.models import *\n",
        "from fastai.vision import *\n",
        "\n",
        "\n",
        "def default_view(request):\n",
        "    return render(request, 'base.html')\n",
        "\n",
        "\n",
        "TINDER_URL = \"https://api.gotinder.com\"\n",
        "geolocator = Nominatim(user_agent=\"DLTinMachine\")\n",
        "PROF_FILE = \"/content/drive/My Drive/finalDL/pFile.txt\"\n",
        "#PROF_FILE = \"profiles.txt\"\n",
        "\n",
        "\n",
        "class tinderAPI():\n",
        "\n",
        "    def __init__(self, token):\n",
        "        self._token = token\n",
        "\n",
        "    def like(self, user_id):\n",
        "        data = requests.get(TINDER_URL + f\"/like/{user_id}\", headers={\"X-Auth-Token\": self._token}).json()\n",
        "        return {\n",
        "            \"is_match\": data[\"match\"],\n",
        "            \"liked_remaining\": data[\"likes_remaining\"]\n",
        "        }\n",
        "\n",
        "    def dislike(self, user_id):\n",
        "        requests.get(TINDER_URL + f\"/pass/{user_id}\", headers={\"X-Auth-Token\": self._token}).json()\n",
        "        return True\n",
        "\n",
        "    def nearby_persons(self):\n",
        "        print('inside nearby')\n",
        "        data = requests.get(TINDER_URL + \"/v2/recs/core\", headers={\"X-Auth-Token\": self._token}).json()\n",
        "        print(data)\n",
        "        return list(map(lambda user: Person(user[\"user\"], self), data[\"data\"][\"results\"]))\n",
        "\n",
        "\n",
        "class Person(object):\n",
        "\n",
        "    def __init__(self, data, api):\n",
        "        self._api = api\n",
        "\n",
        "        self.id = data[\"_id\"]\n",
        "        self.name = data.get(\"name\", \"Unknown\")\n",
        "\n",
        "        self.bio = data.get(\"bio\", \"\")\n",
        "        self.distance = data.get(\"distance_mi\", 0) / 1.60934\n",
        "\n",
        "        self.birth_date = datetime.datetime.strptime(data[\"birth_date\"], '%Y-%m-%dT%H:%M:%S.%fZ') if data.get(\n",
        "            \"birth_date\", False) else None\n",
        "        self.gender = [\"Male\", \"Female\", \"Unknown\"][data.get(\"gender\", 2)]\n",
        "\n",
        "        self.images = list(map(lambda photo: photo[\"url\"], data.get(\"photos\", [])))\n",
        "\n",
        "        self.jobs = list(\n",
        "            map(lambda job: {\"title\": job.get(\"title\", {}).get(\"name\"), \"company\": job.get(\"company\", {}).get(\"name\")},\n",
        "                data.get(\"jobs\", [])))\n",
        "        self.schools = list(map(lambda school: school[\"name\"], data.get(\"schools\", [])))\n",
        "\n",
        "        if data.get(\"pos\", False):\n",
        "            self.location = geolocator.reverse(f'{data[\"pos\"][\"lat\"]}, {data[\"pos\"][\"lon\"]}')\n",
        "\n",
        "    def __repr__(self):\n",
        "        return f\"{self.id}  -  {self.name} ({self.birth_date.strftime('%d.%m.%Y')})\"\n",
        "\n",
        "    def like(self):\n",
        "        return self._api.like(self.id)\n",
        "\n",
        "    def dislike(self):\n",
        "        return self._api.dislike(self.id)\n",
        "\n",
        "\n",
        "token = \"54e65bf8-c7b1-40a8-809f-de2fc727147e\"\n",
        "api = tinderAPI(token)\n",
        "print(api, 'inside main')\n",
        "\n",
        "\n",
        "def default_view2(request):\n",
        "    persons = api.nearby_persons()\n",
        "    peeps = []\n",
        "    count = 0\n",
        "    for person in persons:\n",
        "\n",
        "        image_url = person.images[0]\n",
        "        print(os.getcwd())\n",
        "        req = requests.get(image_url, stream=True)\n",
        "        folder = \"images\"\n",
        "\n",
        "        # create folder if not exists\n",
        "        if not os.path.exists(folder):\n",
        "            os.makedirs(folder)\n",
        "\n",
        "        name = person.name\n",
        "        # school = person.schools\n",
        "        if req.status_code == 200:\n",
        "            with open(f\"{folder}/{name}.jpeg\", \"wb\") as f:\n",
        "                f.write(req.content)\n",
        "\n",
        "        sz = 1500\n",
        "\n",
        "        def imageToTensorImage(path):\n",
        "            bgr_img = cv2.imread(path)\n",
        "            b, g, r = cv2.split(bgr_img)\n",
        "            rgb_img = cv2.merge([r, g, b])\n",
        "            H, W, C = rgb_img.shape\n",
        "            rgb_img = rgb_img[(H - sz) // 2:(sz + (H - sz) // 2), (H - sz) // 2:(sz + (H - sz) // 2), :] / 256\n",
        "            return vision.Image(px=pil2tensor(rgb_img, np.float32))\n",
        "\n",
        "        learn = load_learner('DLTinMachine/')\n",
        "        img = imageToTensorImage('images/' + name + '.jpeg')\n",
        "\n",
        "        y = learn.predict(img)[0]\n",
        "        print(y)\n",
        "        count += 1\n",
        "        status = ''\n",
        "        if str(y) == 'likes':\n",
        "            res = person.like()\n",
        "            print(\"LIKE\")\n",
        "            print(\"Response: \", res)\n",
        "            status = 'LIKE'\n",
        "        else:\n",
        "            res = person.dislike()\n",
        "            print(\"DISLIKE\")\n",
        "            print(\"Response: \", res)\n",
        "            status = 'DISLIKE'\n",
        "        peeps.append({'name': name, 'url': image_url, 'status': status})\n",
        "        if count == 3:\n",
        "            break\n",
        "\n",
        "    context = {\n",
        "        'peeps': peeps,\n",
        "    }\n",
        "    return render(request, 'tinner.html', context)\n"
      ],
      "execution_count": 0,
      "outputs": []
    }
  ]
}